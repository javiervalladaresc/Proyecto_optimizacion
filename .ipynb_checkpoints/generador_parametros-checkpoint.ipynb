{
 "cells": [
  {
   "cell_type": "code",
   "execution_count": 37,
   "metadata": {},
   "outputs": [],
   "source": [
    "import os\n",
    "import numpy as np\n",
    "import pandas as pd"
   ]
  },
  {
   "cell_type": "code",
   "execution_count": 38,
   "metadata": {},
   "outputs": [
    {
     "data": {
      "text/html": [
       "<div>\n",
       "<style scoped>\n",
       "    .dataframe tbody tr th:only-of-type {\n",
       "        vertical-align: middle;\n",
       "    }\n",
       "\n",
       "    .dataframe tbody tr th {\n",
       "        vertical-align: top;\n",
       "    }\n",
       "\n",
       "    .dataframe thead th {\n",
       "        text-align: right;\n",
       "    }\n",
       "</style>\n",
       "<table border=\"1\" class=\"dataframe\">\n",
       "  <thead>\n",
       "    <tr style=\"text-align: right;\">\n",
       "      <th></th>\n",
       "      <th>producto</th>\n",
       "      <th>precio</th>\n",
       "      <th>costo</th>\n",
       "      <th>produccionxhora</th>\n",
       "    </tr>\n",
       "  </thead>\n",
       "  <tbody>\n",
       "    <tr>\n",
       "      <th>0</th>\n",
       "      <td>espaghettini_3</td>\n",
       "      <td>650</td>\n",
       "      <td>300</td>\n",
       "      <td>250</td>\n",
       "    </tr>\n",
       "    <tr>\n",
       "      <th>1</th>\n",
       "      <td>espaghettini_5</td>\n",
       "      <td>650</td>\n",
       "      <td>300</td>\n",
       "      <td>250</td>\n",
       "    </tr>\n",
       "    <tr>\n",
       "      <th>2</th>\n",
       "      <td>tallarines_77</td>\n",
       "      <td>650</td>\n",
       "      <td>300</td>\n",
       "      <td>250</td>\n",
       "    </tr>\n",
       "    <tr>\n",
       "      <th>3</th>\n",
       "      <td>tallarines_78</td>\n",
       "      <td>650</td>\n",
       "      <td>300</td>\n",
       "      <td>250</td>\n",
       "    </tr>\n",
       "    <tr>\n",
       "      <th>4</th>\n",
       "      <td>cabellos_de_angel_1</td>\n",
       "      <td>650</td>\n",
       "      <td>300</td>\n",
       "      <td>250</td>\n",
       "    </tr>\n",
       "  </tbody>\n",
       "</table>\n",
       "</div>"
      ],
      "text/plain": [
       "              producto  precio  costo  produccionxhora\n",
       "0       espaghettini_3     650    300              250\n",
       "1       espaghettini_5     650    300              250\n",
       "2        tallarines_77     650    300              250\n",
       "3        tallarines_78     650    300              250\n",
       "4  cabellos_de_angel_1     650    300              250"
      ]
     },
     "execution_count": 38,
     "metadata": {},
     "output_type": "execute_result"
    }
   ],
   "source": [
    "# cargar datos\n",
    "productos = pd.read_csv(os.path.join(\"datos_luchetti.csv\"), sep=\",\")\n",
    "productos.head()"
   ]
  },
  {
   "cell_type": "code",
   "execution_count": 39,
   "metadata": {},
   "outputs": [
    {
     "data": {
      "text/html": [
       "<div>\n",
       "<style scoped>\n",
       "    .dataframe tbody tr th:only-of-type {\n",
       "        vertical-align: middle;\n",
       "    }\n",
       "\n",
       "    .dataframe tbody tr th {\n",
       "        vertical-align: top;\n",
       "    }\n",
       "\n",
       "    .dataframe thead th {\n",
       "        text-align: right;\n",
       "    }\n",
       "</style>\n",
       "<table border=\"1\" class=\"dataframe\">\n",
       "  <thead>\n",
       "    <tr style=\"text-align: right;\">\n",
       "      <th></th>\n",
       "      <th>nombres</th>\n",
       "      <th>apellido</th>\n",
       "      <th>comuna</th>\n",
       "      <th>fase</th>\n",
       "      <th>distancia</th>\n",
       "      <th>contaminacion</th>\n",
       "      <th>sueldoxhora</th>\n",
       "    </tr>\n",
       "  </thead>\n",
       "  <tbody>\n",
       "    <tr>\n",
       "      <th>0</th>\n",
       "      <td>Iris</td>\n",
       "      <td>Decker</td>\n",
       "      <td>santiago</td>\n",
       "      <td>3</td>\n",
       "      <td>1</td>\n",
       "      <td>0.00</td>\n",
       "      <td>3000</td>\n",
       "    </tr>\n",
       "    <tr>\n",
       "      <th>1</th>\n",
       "      <td>Ivy</td>\n",
       "      <td>Watts</td>\n",
       "      <td>renca</td>\n",
       "      <td>4</td>\n",
       "      <td>10</td>\n",
       "      <td>0.53</td>\n",
       "      <td>3000</td>\n",
       "    </tr>\n",
       "    <tr>\n",
       "      <th>2</th>\n",
       "      <td>Maya</td>\n",
       "      <td>Finley</td>\n",
       "      <td>maipu</td>\n",
       "      <td>4</td>\n",
       "      <td>17</td>\n",
       "      <td>0.53</td>\n",
       "      <td>3000</td>\n",
       "    </tr>\n",
       "    <tr>\n",
       "      <th>3</th>\n",
       "      <td>Nolan</td>\n",
       "      <td>Cohen</td>\n",
       "      <td>puente_alto</td>\n",
       "      <td>3</td>\n",
       "      <td>27</td>\n",
       "      <td>0.16</td>\n",
       "      <td>2500</td>\n",
       "    </tr>\n",
       "    <tr>\n",
       "      <th>4</th>\n",
       "      <td>Wayne</td>\n",
       "      <td>Winters</td>\n",
       "      <td>san_bernardo</td>\n",
       "      <td>3</td>\n",
       "      <td>20</td>\n",
       "      <td>0.53</td>\n",
       "      <td>2500</td>\n",
       "    </tr>\n",
       "  </tbody>\n",
       "</table>\n",
       "</div>"
      ],
      "text/plain": [
       "  nombres apellido        comuna  fase  distancia  contaminacion  sueldoxhora\n",
       "0    Iris   Decker      santiago     3          1           0.00         3000\n",
       "1     Ivy    Watts         renca     4         10           0.53         3000\n",
       "2    Maya   Finley         maipu     4         17           0.53         3000\n",
       "3   Nolan    Cohen   puente_alto     3         27           0.16         2500\n",
       "4   Wayne  Winters  san_bernardo     3         20           0.53         2500"
      ]
     },
     "execution_count": 39,
     "metadata": {},
     "output_type": "execute_result"
    }
   ],
   "source": [
    "# cargar datos\n",
    "nombres = pd.read_csv(os.path.join(\"nombres.csv\"), sep=\",\")\n",
    "nombres.head()"
   ]
  },
  {
   "cell_type": "code",
   "execution_count": 53,
   "metadata": {},
   "outputs": [
    {
     "data": {
      "text/plain": [
       "33"
      ]
     },
     "execution_count": 53,
     "metadata": {},
     "output_type": "execute_result"
    }
   ],
   "source": [
    "dat=open(\"datos.dat\",\"w\") \n",
    "\n",
    "dat.write(\"#abstract1.dat AMPL data format \\n\")"
   ]
  },
  {
   "cell_type": "code",
   "execution_count": 54,
   "metadata": {},
   "outputs": [],
   "source": [
    "n,c = nombres.shape  \n",
    "m,l = productos.shape"
   ]
  },
  {
   "cell_type": "code",
   "execution_count": 55,
   "metadata": {},
   "outputs": [],
   "source": [
    "dat.write(\"\\n \\nSet I := \")\n",
    "for i in range(1,m):\n",
    "    dat.write(str(i)+\" \")"
   ]
  },
  {
   "cell_type": "code",
   "execution_count": 56,
   "metadata": {},
   "outputs": [],
   "source": [
    "dat.write(\"\\nSet J := \")\n",
    "for i in range(1,n):\n",
    "    dat.write(str(i)+\" \")"
   ]
  },
  {
   "cell_type": "code",
   "execution_count": 57,
   "metadata": {},
   "outputs": [],
   "source": [
    "dat.write(\"\\n \\nparam C := \\n\")\n",
    "for i in range(1,m):\n",
    "    dat.write(str(i)+\" \"+str(productos[\"costo\"][i])+\"\\n\")"
   ]
  },
  {
   "cell_type": "code",
   "execution_count": 58,
   "metadata": {},
   "outputs": [],
   "source": [
    "dat.write(\"\\n \\nparam F := \\n\")\n",
    "for i in range(1,n):\n",
    "    dat.write(str(i)+\" \"+str(nombres[\"fase\"][i])+\"\\n\")"
   ]
  },
  {
   "cell_type": "code",
   "execution_count": 59,
   "metadata": {},
   "outputs": [],
   "source": [
    "dat.write(\"\\n \\nparam Q := \\n\")\n",
    "for i in range(1,m):\n",
    "    dat.write(str(i)+\" \"+str(productos[\"produccionxhora\"][i])+\"\\n\")"
   ]
  },
  {
   "cell_type": "code",
   "execution_count": 60,
   "metadata": {},
   "outputs": [],
   "source": [
    "dat.write(\"\\n \\nparam S := \\n\")\n",
    "for i in range(1,n):\n",
    "    dat.write(str(i)+\" \"+str(nombres[\"sueldoxhora\"][i])+\"\\n\")"
   ]
  },
  {
   "cell_type": "code",
   "execution_count": 61,
   "metadata": {},
   "outputs": [],
   "source": [
    "dat.write(\"\\n \\nparam D := \\n\")\n",
    "for i in range(1,n):\n",
    "    dat.write(str(i)+\" \"+str(nombres[\"distancia\"][i])+\"\\n\")"
   ]
  },
  {
   "cell_type": "code",
   "execution_count": 62,
   "metadata": {},
   "outputs": [],
   "source": [
    "dat.write(\"\\n \\nparam Cont := \\n\")\n",
    "for i in range(1,n):\n",
    "    dat.write(str(i)+\" \"+str(nombres[\"contaminacion\"][i])+\"\\n\")"
   ]
  },
  {
   "cell_type": "code",
   "execution_count": null,
   "metadata": {},
   "outputs": [],
   "source": []
  }
 ],
 "metadata": {
  "kernelspec": {
   "display_name": "Python 3",
   "language": "python",
   "name": "python3"
  },
  "language_info": {
   "codemirror_mode": {
    "name": "ipython",
    "version": 3
   },
   "file_extension": ".py",
   "mimetype": "text/x-python",
   "name": "python",
   "nbconvert_exporter": "python",
   "pygments_lexer": "ipython3",
   "version": "3.7.8"
  }
 },
 "nbformat": 4,
 "nbformat_minor": 4
}
