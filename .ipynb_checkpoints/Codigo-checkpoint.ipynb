{
 "cells": [
  {
   "cell_type": "code",
   "execution_count": 1,
   "metadata": {},
   "outputs": [],
   "source": [
    "from __future__ import division\n",
    "import pyomo.environ as pyo"
   ]
  },
  {
   "cell_type": "code",
   "execution_count": 2,
   "metadata": {},
   "outputs": [],
   "source": [
    "model = pyo.AbstractModel()"
   ]
  },
  {
   "cell_type": "code",
   "execution_count": 3,
   "metadata": {},
   "outputs": [],
   "source": [
    "gastos_fijos = 0\n",
    "tra_permitidos = 0\n",
    "cont_max = 0\n",
    "prod_min = 0\n",
    "precio_etico = 0\n",
    "gan_min = 0\n",
    "presupuesto = 0"
   ]
  },
  {
   "cell_type": "code",
   "execution_count": 4,
   "metadata": {},
   "outputs": [],
   "source": [
    "model.n = pyo.Param(within = pyo.NonNegativeIntegers) #trabajadores\n",
    "model.m = pyo.Param(within = pyo.NonNegativeIntegers) #alimentos\n",
    "\n",
    "model.I = pyo.RangeSet(1, model.m)\n",
    "model.J = pyo.RangeSet(1, model.n)\n",
    "\n",
    "#Parametros de alimentos\n",
    "model.Co = pyo.Param(model.I)\n",
    "model.C = pyo.Param(model.I)\n",
    "model.Q = pyo.Param(model.I)\n",
    "\n",
    "#Parametros de trabajadores\n",
    "model.S = pyo.Param(model.J)\n",
    "model.F = pyo.Param(model.J)\n",
    "model.D = pyo.Param(model.J)\n",
    "model.Cont = pyo.Param(model.J)\n",
    "\n",
    "#Variables de decision\n",
    "model.x = pyo.Var(model.J, within = pyo.Binary)\n",
    "model.p = pyo.Var(model.I, domain=pyo.NonNegativeReals)\n",
    "model.t = pyo.Var(domain=pyo.NonNegativeReals)\n",
    "\n",
    "#Funcion objetivo\n",
    "def obj_expresion(m):\n",
    "    return pyo.summation(m.Q,m.p)*m.t - pyo.summation(m.Q,m.C)*m.t - pyo.summation(m.s,m.x)*m.t - gastos\n",
    "\n",
    "model.OBJ = pyo.Objective(rule = obj_expresion)\n",
    "\n",
    "#Restricciones\n",
    "def restriccion_precio(m,i):\n",
    "    return m.C[i] - gan_min < m.p[i] < precio_etico \n",
    "model.Precio_r = pyo.Constraint(model.I, rule=restriccion_precio)\n",
    "\n",
    "def restriccion_trabajadores(m):\n",
    "    return sum(m.x[j] for j in m.J) >= tra_premitidos\n",
    "model.Max_trab = pyo.Constraint(rule = restriccion_trabajadores)\n",
    "\n",
    "def restriccion_contaminacion(m):\n",
    "    return pyo.summation(m.Co,m.Q)*m.t + pyo.summation(m.x,m.S,m.Cont) <= cont_max\n",
    "model.Max_cont = pyo.Constraint(rule = restriccion_contaminacion)\n",
    "\n",
    "def restriccion_comuna(m,j):\n",
    "    return m.x[j] <= m.F[j] - 1\n",
    "model.Comuna_r = pyo.Constraint(rule = restriccion_comuna)\n",
    "\n",
    "model.tiempo_1 = pyo.Constraint(expr = model.t <= 8)\n",
    "model.tiempo_2 = pyo.Constraint(expr = model.t >= 4)\n",
    "\n",
    "def restriccion_produccion(m,i):\n",
    "    return prod_min <= m.Q[i]*m.t\n",
    "model.Produccion_r = pyo.Constraint(rule = restriccion_produccion)\n",
    "\n",
    "def restriccion_presupuesto(m):\n",
    "    return pyo.summation(m.C,m.Q)*m.t + pyo.summation(m.x,m.S)*m.t <= presupuesto\n",
    "model.Presupuesto_r = pyo.Constraint(rule = restriccion_presupuesto)"
   ]
  },
  {
   "cell_type": "code",
   "execution_count": null,
   "metadata": {},
   "outputs": [],
   "source": []
  }
 ],
 "metadata": {
  "kernelspec": {
   "display_name": "Python 3",
   "language": "python",
   "name": "python3"
  },
  "language_info": {
   "codemirror_mode": {
    "name": "ipython",
    "version": 3
   },
   "file_extension": ".py",
   "mimetype": "text/x-python",
   "name": "python",
   "nbconvert_exporter": "python",
   "pygments_lexer": "ipython3",
   "version": "3.7.8"
  }
 },
 "nbformat": 4,
 "nbformat_minor": 4
}
